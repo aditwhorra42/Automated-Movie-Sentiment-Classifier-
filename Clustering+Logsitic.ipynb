{
 "cells": [
  {
   "cell_type": "code",
   "execution_count": 1,
   "metadata": {},
   "outputs": [],
   "source": [
    "import pandas as pd\n",
    "import re\n",
    "from nltk.corpus import stopwords\n",
    "import io\n",
    "from sklearn.metrics import precision_recall_fscore_support\n",
    "from sklearn.cluster import MiniBatchKMeans\n",
    "import numpy as np\n",
    "from sklearn.naive_bayes import MultinomialNB\n",
    "from sklearn.linear_model import LogisticRegression\n",
    "from sklearn.metrics import accuracy_score\n",
    "Train = pd.read_csv(\"Train.csv\")\n",
    "stop_words = stopwords.words(\"english\")\n",
    "f = io.open(\"words.txt\", mode=\"r\", encoding=\"utf-8\")\n",
    "stop_words = set(stopwords.words('english')) \n",
    "wordlist = f.read().split(\"\\n\")\n",
    "wordlist = [word for word in wordlist if word not in stop_words]\n",
    "f.close()"
   ]
  },
  {
   "cell_type": "code",
   "execution_count": 2,
   "metadata": {},
   "outputs": [],
   "source": [
    "Train.Review = Train['Review'].map(lambda a: re.sub(r'[^\\w\\s]','',a).lower())\n",
    "Train.Review = Train['Review'].map(lambda a: ' '.join([word for word in a.split() if word not in stop_words]))"
   ]
  },
  {
   "cell_type": "code",
   "execution_count": 3,
   "metadata": {},
   "outputs": [],
   "source": [
    "from sklearn.feature_extraction.text import CountVectorizer\n",
    "vectorizer = CountVectorizer(vocabulary = wordlist, encoding=\"ISO-8859-1\", strip_accents=ascii, analyzer='word')\n",
    "bagofwords_train = vectorizer.fit_transform(Train['Review'])"
   ]
  },
  {
   "cell_type": "code",
   "execution_count": 4,
   "metadata": {},
   "outputs": [],
   "source": [
    "from sklearn.feature_extraction.text import TfidfTransformer\n",
    "tfidf_transformer = TfidfTransformer()\n",
    "tf_idf_train = tfidf_transformer.fit_transform(bagofwords_train)"
   ]
  },
  {
   "cell_type": "code",
   "execution_count": 5,
   "metadata": {},
   "outputs": [],
   "source": [
    "kmeans = MiniBatchKMeans(n_clusters=5, random_state=0, batch_size=500, max_iter=5000).fit(tf_idf_train)\n",
    "labels = pd.DataFrame(kmeans.labels_, columns = [\"Cluster\"])"
   ]
  },
  {
   "cell_type": "markdown",
   "metadata": {},
   "source": [
    "Model for cluster 0"
   ]
  },
  {
   "cell_type": "code",
   "execution_count": 6,
   "metadata": {},
   "outputs": [
    {
     "name": "stderr",
     "output_type": "stream",
     "text": [
      "c:\\users\\aditw\\appdata\\local\\programs\\python\\python37-32\\lib\\site-packages\\sklearn\\linear_model\\logistic.py:432: FutureWarning: Default solver will be changed to 'lbfgs' in 0.22. Specify a solver to silence this warning.\n",
      "  FutureWarning)\n"
     ]
    }
   ],
   "source": [
    "Train = pd.read_csv(\"Train.csv\")\n",
    "x_Train = tf_idf_train[labels.index[labels['Cluster'] == 0].tolist(), :]\n",
    "y_Train = Train.iloc[labels.index[labels['Cluster'] == 0].tolist(), :]['Class']\n",
    "Cluster0_model = LogisticRegression().fit(x_Train, y_Train)"
   ]
  },
  {
   "cell_type": "markdown",
   "metadata": {},
   "source": [
    "Model for cluster 1"
   ]
  },
  {
   "cell_type": "code",
   "execution_count": 7,
   "metadata": {},
   "outputs": [],
   "source": [
    "x_Train = tf_idf_train[labels.index[labels['Cluster'] == 1].tolist(), :]\n",
    "y_Train = Train.iloc[labels.index[labels['Cluster'] == 1].tolist(), :]['Class']\n",
    "Cluster1_model = LogisticRegression().fit(x_Train, y_Train)"
   ]
  },
  {
   "cell_type": "markdown",
   "metadata": {},
   "source": [
    "Model for Cluster 2"
   ]
  },
  {
   "cell_type": "code",
   "execution_count": 9,
   "metadata": {},
   "outputs": [],
   "source": [
    "x_Train = tf_idf_train[labels.index[labels['Cluster'] == 2].tolist(), :]\n",
    "y_Train = Train.iloc[labels.index[labels['Cluster'] == 2].tolist(), :]['Class']\n",
    "Cluster2_model = LogisticRegression().fit(x_Train, y_Train)"
   ]
  },
  {
   "cell_type": "markdown",
   "metadata": {},
   "source": [
    "Model for Cluster 3"
   ]
  },
  {
   "cell_type": "code",
   "execution_count": 8,
   "metadata": {},
   "outputs": [],
   "source": [
    "x_Train = tf_idf_train[labels.index[labels['Cluster'] == 3].tolist(), :]\n",
    "y_Train = Train.iloc[labels.index[labels['Cluster'] == 3].tolist(), :]['Class']\n",
    "Cluster3_model = LogisticRegression().fit(x_Train, y_Train)"
   ]
  },
  {
   "cell_type": "markdown",
   "metadata": {},
   "source": [
    "Model for Cluster 4"
   ]
  },
  {
   "cell_type": "code",
   "execution_count": 10,
   "metadata": {},
   "outputs": [],
   "source": [
    "x_Train = tf_idf_train[labels.index[labels['Cluster'] == 4].tolist(), :]\n",
    "y_Train = Train.iloc[labels.index[labels['Cluster'] == 4].tolist(), :]['Class']\n",
    "Cluster4_model = LogisticRegression().fit(x_Train, y_Train)"
   ]
  },
  {
   "cell_type": "markdown",
   "metadata": {},
   "source": [
    "Model for Cluster 5"
   ]
  },
  {
   "cell_type": "code",
   "execution_count": 11,
   "metadata": {},
   "outputs": [],
   "source": [
    "# x_Train = tf_idf_train[labels.index[labels['Cluster'] == 5].tolist(), :]\n",
    "# y_Train = Train.iloc[labels.index[labels['Cluster'] == 5].tolist(), :]['Class']\n",
    "# Cluster5_model = LogisticRegression().fit(x_Train, y_Train)"
   ]
  },
  {
   "cell_type": "markdown",
   "metadata": {},
   "source": [
    "Model for Cluster 6"
   ]
  },
  {
   "cell_type": "code",
   "execution_count": 12,
   "metadata": {},
   "outputs": [],
   "source": [
    "# x_Train = tf_idf_train[labels.index[labels['Cluster'] == 6].tolist(), :]\n",
    "# y_Train = Train.iloc[labels.index[labels['Cluster'] == 6].tolist(), :]['Class']\n",
    "# Cluster6_model = LogisticRegression().fit(x_Train, y_Train)"
   ]
  },
  {
   "cell_type": "code",
   "execution_count": 13,
   "metadata": {},
   "outputs": [],
   "source": [
    "Test = pd.read_csv(\"imdb_ts.csv\")\n",
    "y_true = Test['Class']\n",
    "Test.Review = Test['Review'].map(lambda a: re.sub(r'[^\\w\\s]','',a).lower())\n",
    "Test.Review = Test['Review'].map(lambda a: ' '.join([word for word in a.split() if word not in stop_words]))\n",
    "vectorizer = CountVectorizer(vocabulary = wordlist, encoding=\"ISO-8859-1\", strip_accents=ascii, analyzer='word')\n",
    "bagofwords_test = vectorizer.fit_transform(Test['Review'])\n",
    "tfidf_transformer = TfidfTransformer()\n",
    "tf_idf_test = tfidf_transformer.fit_transform(bagofwords_test)\n",
    "cluster_predict = kmeans.predict(tf_idf_test)"
   ]
  },
  {
   "cell_type": "code",
   "execution_count": 15,
   "metadata": {},
   "outputs": [
    {
     "name": "stdout",
     "output_type": "stream",
     "text": [
      "0.85852\n",
      "Recall  0.86592\n",
      "Precision  0.8532912889239259\n"
     ]
    }
   ],
   "source": [
    "correct = 0\n",
    "tp = 0\n",
    "tn = 0\n",
    "fp = 0\n",
    "fn = 0\n",
    "\n",
    "i = 0\n",
    "for x in np.nditer(cluster_predict):\n",
    "    if(x == 0):\n",
    "        prediction = Cluster0_model.predict(tf_idf_test[i])[0]\n",
    "    elif(x == 1):\n",
    "        prediction = Cluster1_model.predict(tf_idf_test[i])[0]\n",
    "    elif(x == 2):\n",
    "        prediction = Cluster2_model.predict(tf_idf_test[i])[0]\n",
    "    elif(x == 3):\n",
    "        prediction = Cluster3_model.predict(tf_idf_test[i])[0]\n",
    "    elif(x == 4):\n",
    "        prediction = Cluster4_model.predict(tf_idf_test[i])[0]\n",
    "#     elif(x == 5):\n",
    "#         prediction = Cluster5_model.predict(tf_idf_test[i])[0]\n",
    "#     elif(x == 6):\n",
    "#         prediction = Cluster6_model.predict(tf_idf_test[i])[0]\n",
    "    \n",
    "    if(y_true[i] == 1 and prediction == 1):\n",
    "            tp+=1\n",
    "            correct+=1\n",
    "    elif(y_true[i] == 0 and prediction == 0):\n",
    "            tn+=1\n",
    "            correct+=1\n",
    "    elif(y_true[i] == 1 and prediction == 0):\n",
    "            fn+=1\n",
    "    elif(y_true[i] == 0 and prediction == 1):\n",
    "            fp+=1\n",
    "    i = i+1\n",
    "        \n",
    "print(correct/25000)\n",
    "print(\"Recall \", tp/(tp+fn))\n",
    "print(\"Precision \", tp/(tp+fp))\n"
   ]
  },
  {
   "cell_type": "code",
   "execution_count": 16,
   "metadata": {},
   "outputs": [
    {
     "name": "stdout",
     "output_type": "stream",
     "text": [
      "  1    0\n",
      "1 10824 1861\n",
      "0 1676 10639\n"
     ]
    }
   ],
   "source": [
    "print(\" \", \"1   \", \"0\")\n",
    "print(\"1\", tp, fp)\n",
    "print(\"0\", fn, tn)"
   ]
  }
 ],
 "metadata": {
  "kernelspec": {
   "display_name": "Python 3",
   "language": "python",
   "name": "python3"
  },
  "language_info": {
   "codemirror_mode": {
    "name": "ipython",
    "version": 3
   },
   "file_extension": ".py",
   "mimetype": "text/x-python",
   "name": "python",
   "nbconvert_exporter": "python",
   "pygments_lexer": "ipython3",
   "version": "3.7.0"
  }
 },
 "nbformat": 4,
 "nbformat_minor": 2
}
