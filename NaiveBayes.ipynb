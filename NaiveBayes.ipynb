{
 "cells": [
  {
   "cell_type": "code",
   "execution_count": 1,
   "metadata": {},
   "outputs": [],
   "source": [
    "import pandas as pd\n",
    "import re\n",
    "from nltk.corpus import stopwords\n",
    "import io\n",
    "from sklearn.metrics import precision_recall_fscore_support\n",
    "from sklearn.cluster import MiniBatchKMeans\n",
    "import numpy as np\n",
    "from sklearn.naive_bayes import MultinomialNB\n",
    "from sklearn.metrics import accuracy_score, recall_score, precision_score\n",
    "from sklearn.metrics import confusion_matrix\n",
    "\n",
    "Train = pd.read_csv(\"Train.csv\")\n",
    "stop_words = stopwords.words(\"english\")\n",
    "f = io.open(\"words.txt\", mode=\"r\", encoding=\"utf-8\")\n",
    "stop_words = set(stopwords.words('english')) \n",
    "wordlist = f.read().split(\"\\n\")\n",
    "wordlist = [word for word in wordlist if word not in stop_words]\n",
    "f.close()"
   ]
  },
  {
   "cell_type": "code",
   "execution_count": 2,
   "metadata": {},
   "outputs": [],
   "source": [
    "Train.Review = Train['Review'].map(lambda a: re.sub(r'[^\\w\\s]','',a).lower())\n",
    "Train.Review = Train['Review'].map(lambda a: ' '.join([word for word in a.split() if word not in stop_words]))"
   ]
  },
  {
   "cell_type": "code",
   "execution_count": 3,
   "metadata": {},
   "outputs": [],
   "source": [
    "from sklearn.feature_extraction.text import CountVectorizer\n",
    "vectorizer = CountVectorizer(vocabulary = wordlist, encoding=\"ISO-8859-1\", strip_accents=ascii, analyzer='word')\n",
    "bagofwords_train = vectorizer.fit_transform(Train['Review'])"
   ]
  },
  {
   "cell_type": "code",
   "execution_count": 4,
   "metadata": {},
   "outputs": [],
   "source": [
    "from sklearn.feature_extraction.text import TfidfTransformer\n",
    "tfidf_transformer = TfidfTransformer()\n",
    "tf_idf_train = tfidf_transformer.fit_transform(bagofwords_train)\n",
    "NBModel = MultinomialNB().fit(tf_idf_train, Train['Class'])"
   ]
  },
  {
   "cell_type": "code",
   "execution_count": 5,
   "metadata": {},
   "outputs": [],
   "source": [
    "Test = pd.read_csv(\"imdb_ts.csv\")\n",
    "y_true = Test['Class']\n",
    "Test.Review = Test['Review'].map(lambda a: re.sub(r'[^\\w\\s]','',a).lower())\n",
    "Test.Review = Test['Review'].map(lambda a: ' '.join([word for word in a.split() if word not in stop_words]))\n",
    "vectorizer = CountVectorizer(vocabulary = wordlist, encoding=\"ISO-8859-1\", strip_accents=ascii, analyzer='word')\n",
    "bagofwords_test = vectorizer.fit_transform(Test['Review'])\n",
    "tfidf_transformer = TfidfTransformer()\n",
    "tf_idf_test = tfidf_transformer.fit_transform(bagofwords_test)"
   ]
  },
  {
   "cell_type": "code",
   "execution_count": 10,
   "metadata": {},
   "outputs": [
    {
     "name": "stdout",
     "output_type": "stream",
     "text": [
      "[[10979  1521]\n",
      " [ 2599  9901]]\n",
      "0.8352\n",
      "0.8668359306601295\n",
      "0.79208\n"
     ]
    }
   ],
   "source": [
    "y_pred = NBModel.predict(tf_idf_test)\n",
    "print(confusion_matrix(y_true, y_pred))\n",
    "print(accuracy_score(y_true, y_pred))\n",
    "print(precision_score(y_true, y_pred))\n",
    "print(recall_score(y_true, y_pred))"
   ]
  },
  {
   "cell_type": "code",
   "execution_count": null,
   "metadata": {},
   "outputs": [],
   "source": []
  }
 ],
 "metadata": {
  "kernelspec": {
   "display_name": "Python 3",
   "language": "python",
   "name": "python3"
  },
  "language_info": {
   "codemirror_mode": {
    "name": "ipython",
    "version": 3
   },
   "file_extension": ".py",
   "mimetype": "text/x-python",
   "name": "python",
   "nbconvert_exporter": "python",
   "pygments_lexer": "ipython3",
   "version": "3.7.0"
  }
 },
 "nbformat": 4,
 "nbformat_minor": 2
}
